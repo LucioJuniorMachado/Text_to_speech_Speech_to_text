{
  "nbformat": 4,
  "nbformat_minor": 0,
  "metadata": {
    "colab": {
      "provenance": [],
      "authorship_tag": "ABX9TyMblBImg9sX/UMZ99yDVrVq",
      "include_colab_link": true
    },
    "kernelspec": {
      "name": "python3",
      "display_name": "Python 3"
    },
    "language_info": {
      "name": "python"
    }
  },
  "cells": [
    {
      "cell_type": "markdown",
      "metadata": {
        "id": "view-in-github",
        "colab_type": "text"
      },
      "source": [
        "<a href=\"https://colab.research.google.com/github/LucioJuniorMachado/Text_to_speech_Speech_to_text/blob/main/Text_to_speech_speech_to_text.ipynb\" target=\"_parent\"><img src=\"https://colab.research.google.com/assets/colab-badge.svg\" alt=\"Open In Colab\"/></a>"
      ]
    },
    {
      "cell_type": "markdown",
      "source": [
        "# Text to speech\n"
      ],
      "metadata": {
        "id": "CI72ZXtIIcWf"
      }
    },
    {
      "source": [
        "from gtts import gTTS\n",
        "\n",
        "text_to_say = \"What do you get from what you learn?.\"\n",
        "\n",
        "language = \"en\"\n",
        "\n",
        "gtts_object = gTTS(text = text_to_say,\n",
        "                  lang = language,\n",
        "                  slow = False)\n",
        "\n",
        "gtts_object.save(\"/content/gtts.wav\")\n",
        "\n",
        "from IPython.display import Audio\n",
        "\n",
        "Audio(\"/content/gtts.wav\")\n",
        "\n",
        "deutsch_text = \"Was bringt Ihnen das Gelernte?\"\n",
        "\n",
        "# Corrected the variable name from 'deustch_language' to 'deutsch_language'\n",
        "deutsch_language = \"de\"\n",
        "deutsch_gtts_object = gTTS(text = deutsch_text,\n",
        "                          lang = deutsch_language, # Using the corrected variable name\n",
        "                          slow = True)\n",
        "\n",
        "# Corrected the variable name from 'french_gtts_object' to 'deutsch_gtts_object'\n",
        "deutsch_gtts_object.save(\"/content/deutsch.wav\")\n",
        "\n",
        "# Corrected the file name from 'deustch.wav' to 'deutsch.wav'\n",
        "Audio(\"/content/deutsch.wav\")"
      ],
      "cell_type": "code",
      "metadata": {
        "colab": {
          "base_uri": "https://localhost:8080/",
          "height": 75
        },
        "id": "0Asj8mgAIW5P",
        "outputId": "881e2359-c947-4d69-869e-7284e83d7121"
      },
      "execution_count": 6,
      "outputs": [
        {
          "output_type": "execute_result",
          "data": {
            "text/plain": [
              "<IPython.lib.display.Audio object>"
            ],
            "text/html": [
              "\n",
              "                <audio  controls=\"controls\" >\n",
              "                    <source src=\"data:audio/x-wav;base64,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\" type=\"audio/x-wav\" />\n",
              "                    Your browser does not support the audio element.\n",
              "                </audio>\n",
              "              "
            ]
          },
          "metadata": {},
          "execution_count": 6
        }
      ]
    },
    {
      "cell_type": "markdown",
      "source": [
        "# Speech to text"
      ],
      "metadata": {
        "id": "Iux6OZySIkgW"
      }
    },
    {
      "cell_type": "code",
      "source": [
        "import torch\n",
        "from transformers import Speech2TextProcessor, Speech2TextForConditionalGeneration\n",
        "from datasets import load_dataset\n",
        "\n",
        "model = Speech2TextForConditionalGeneration.from_pretrained(\"facebook/s2t-small-librispeech-asr\")\n",
        "processor = Speech2TextProcessor.from_pretrained(\"facebook/s2t-small-librispeech-asr\")\n",
        "\n",
        "\n",
        "ds = load_dataset(\"hf-internal-testing/librispeech_asr_demo\", \"clean\", split=\"validation\")\n",
        "\n",
        "inputs = processor(ds[0][\"audio\"][\"array\"], sampling_rate=ds[0][\"audio\"][\"sampling_rate\"], return_tensors=\"pt\")\n",
        "generated_ids = model.generate(inputs[\"input_features\"], attention_mask=inputs[\"attention_mask\"])\n",
        "\n",
        "transcription = processor.batch_decode(generated_ids, skip_special_tokens=True)\n",
        "transcription"
      ],
      "metadata": {
        "colab": {
          "base_uri": "https://localhost:8080/"
        },
        "id": "d9iOk995Ur7t",
        "outputId": "441a75e1-7c4f-4062-d140-2f638622ab77"
      },
      "execution_count": 2,
      "outputs": [
        {
          "output_type": "stream",
          "name": "stderr",
          "text": [
            "Some weights of Speech2TextForConditionalGeneration were not initialized from the model checkpoint at facebook/s2t-small-librispeech-asr and are newly initialized: ['model.decoder.embed_positions.weights', 'model.encoder.embed_positions.weights']\n",
            "You should probably TRAIN this model on a down-stream task to be able to use it for predictions and inference.\n"
          ]
        },
        {
          "output_type": "execute_result",
          "data": {
            "text/plain": [
              "['mister quilter is the apostle of the middle classes and we are glad to welcome his gospel']"
            ]
          },
          "metadata": {},
          "execution_count": 2
        }
      ]
    },
    {
      "source": [
        "from gtts import gTTS\n",
        "from IPython.display import Audio\n",
        "import torch\n",
        "from transformers import Speech2TextProcessor, Speech2TextForConditionalGeneration\n",
        "from datasets import load_dataset\n",
        "import librosa\n",
        "\n",
        "# Load the audio file\n",
        "audio_file = \"/content/gtts.wav\"\n",
        "# Resample to 16000 Hz during loading\n",
        "audio_input, sample_rate = librosa.load(audio_file, sr=16000)\n",
        "\n",
        "# Assuming you've already set up the model and processor\n",
        "model = Speech2TextForConditionalGeneration.from_pretrained(\"facebook/s2t-small-librispeech-asr\")\n",
        "processor = Speech2TextProcessor.from_pretrained(\"facebook/s2t-small-librispeech-asr\")\n",
        "\n",
        "inputs = processor(audio_input, sampling_rate=sample_rate, return_tensors=\"pt\")\n",
        "generated_ids = model.generate(inputs[\"input_features\"], attention_mask=inputs[\"attention_mask\"])\n",
        "\n",
        "transcription = processor.batch_decode(generated_ids, skip_special_tokens=True)\n",
        "transcription"
      ],
      "cell_type": "code",
      "metadata": {
        "colab": {
          "base_uri": "https://localhost:8080/"
        },
        "id": "6IL-fV81W6Vl",
        "outputId": "bf5c0c15-d8d6-47b7-bdf7-7fab30fcaa38"
      },
      "execution_count": 14,
      "outputs": [
        {
          "output_type": "stream",
          "name": "stderr",
          "text": [
            "Some weights of Speech2TextForConditionalGeneration were not initialized from the model checkpoint at facebook/s2t-small-librispeech-asr and are newly initialized: ['model.decoder.embed_positions.weights', 'model.encoder.embed_positions.weights']\n",
            "You should probably TRAIN this model on a down-stream task to be able to use it for predictions and inference.\n"
          ]
        },
        {
          "output_type": "execute_result",
          "data": {
            "text/plain": [
              "['what do you get from what you learn dot']"
            ]
          },
          "metadata": {},
          "execution_count": 14
        }
      ]
    },
    {
      "cell_type": "code",
      "source": [
        "# prompt: now eliminate the dot from the transcript above\n",
        "\n",
        "from gtts import gTTS\n",
        "from IPython.display import Audio\n",
        "import torch\n",
        "from transformers import Speech2TextProcessor, Speech2TextForConditionalGeneration\n",
        "from datasets import load_dataset\n",
        "import librosa\n",
        "\n",
        "# Text to speech\n",
        "\n",
        "text_to_say = \"What do you get from what you learn?\"\n",
        "\n",
        "language = \"en\"\n",
        "\n",
        "gtts_object = gTTS(text = text_to_say,\n",
        "                  lang = language,\n",
        "                  slow = False)\n",
        "\n",
        "gtts_object.save(\"/content/gttswav\")\n",
        "\n",
        "\n",
        "Audio(\"/content/gttswav\")\n",
        "\n",
        "deutsch_text = \"Was bringt Ihnen das Gelernte?\"\n",
        "\n",
        "# Corrected the variable name from 'deustch_language' to 'deutsch_language'\n",
        "deutsch_language = \"de\"\n",
        "deutsch_gtts_object = gTTS(text = deutsch_text,\n",
        "                          lang = deutsch_language, # Using the corrected variable name\n",
        "                          slow = True)\n",
        "\n",
        "\n",
        "model = Speech2TextForConditionalGeneration.from_pretrained(\"facebook/s2t-small-librispeech-asr\")\n",
        "processor = Speech2TextProcessor.from_pretrained(\"facebook/s2t-small-librispeech-asr\")\n",
        "\n",
        "\n",
        "ds = load_dataset(\"hf-internal-testing/librispeech_asr_demo\", \"clean\", split=\"validation\")\n",
        "\n",
        "inputs = processor(ds[0][\"audio\"][\"array\"], sampling_rate=ds[0][\"audio\"][\"sampling_rate\"], return_tensors=\"pt\")\n",
        "generated_ids = model.generate(inputs[\"input_features\"], attention_mask=inputs[\"attention_mask\"])\n",
        "\n",
        "transcription = processor.batch_decode(generated_ids, skip_special_tokens=True)\n",
        "transcription\n",
        "\n",
        "# Load the audio file\n",
        "audio_file = \"/content/gttswav\"\n",
        "# Resample to 16000 Hz during loading\n",
        "audio_input, sample_rate = librosa.load(audio_file, sr=16000)\n",
        "\n",
        "# Assuming you've already set up the model and processor\n",
        "model = Speech2TextForConditionalGeneration.from_pretrained(\"facebook/s2t-small-librispeech-asr\")\n",
        "processor = Speech2TextProcessor.from_pretrained(\"facebook/s2t-small-librispeech-asr\")\n",
        "\n",
        "inputs = processor(audio_input, sampling_rate=sample_rate, return_tensors=\"pt\")\n",
        "generated_ids = model.generate(inputs[\"input_features\"], attention_mask=inputs[\"attention_mask\"])\n",
        "\n",
        "transcription = processor.batch_decode(generated_ids, skip_special_tokens=True)\n",
        "transcription"
      ],
      "metadata": {
        "colab": {
          "base_uri": "https://localhost:8080/"
        },
        "id": "krEr0QKLXoS0",
        "outputId": "43c8374e-9a6b-4ff8-c12e-8322f10f5359"
      },
      "execution_count": 16,
      "outputs": [
        {
          "output_type": "stream",
          "name": "stderr",
          "text": [
            "Some weights of Speech2TextForConditionalGeneration were not initialized from the model checkpoint at facebook/s2t-small-librispeech-asr and are newly initialized: ['model.decoder.embed_positions.weights', 'model.encoder.embed_positions.weights']\n",
            "You should probably TRAIN this model on a down-stream task to be able to use it for predictions and inference.\n",
            "Some weights of Speech2TextForConditionalGeneration were not initialized from the model checkpoint at facebook/s2t-small-librispeech-asr and are newly initialized: ['model.decoder.embed_positions.weights', 'model.encoder.embed_positions.weights']\n",
            "You should probably TRAIN this model on a down-stream task to be able to use it for predictions and inference.\n"
          ]
        },
        {
          "output_type": "execute_result",
          "data": {
            "text/plain": [
              "['what do you get from what you learn']"
            ]
          },
          "metadata": {},
          "execution_count": 16
        }
      ]
    }
  ]
}